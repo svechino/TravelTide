{
 "cells": [
  {
   "cell_type": "markdown",
   "id": "b4510181-7be3-44d4-8f9e-0f26d389a074",
   "metadata": {},
   "source": [
    "# Method 1: "
   ]
  },
  {
   "cell_type": "markdown",
   "id": "2e865694-9cf6-4f78-8c8a-90dab5f18f04",
   "metadata": {},
   "source": [
    "Creating function for calculations based on Haversine formula using math module"
   ]
  },
  {
   "cell_type": "markdown",
   "id": "c7d7580b-443a-44f0-9e2a-d2d1f77337ae",
   "metadata": {},
   "source": [
    "<img src = 'https://miro.medium.com/v2/resize:fit:720/format:webp/1*6amISXF-p34a4H9xRoJk1Q@2x.png'>"
   ]
  },
  {
   "cell_type": "code",
   "execution_count": 1,
   "id": "ce4bf463-fc5e-4b12-bc06-ad264b915cbf",
   "metadata": {},
   "outputs": [],
   "source": [
    "# Importing main libraries:\n",
    "import math\n",
    "from math import radians, cos, sin, asin, sqrt "
   ]
  },
  {
   "cell_type": "code",
   "execution_count": 2,
   "id": "f3480135",
   "metadata": {},
   "outputs": [],
   "source": [
    "import pandas as pd"
   ]
  },
  {
   "cell_type": "code",
   "execution_count": 3,
   "id": "4669c61f-3a31-4d5d-a3ad-1a52fda03a85",
   "metadata": {},
   "outputs": [],
   "source": [
    "# Writing function for calculating distance in km:\n",
    "def distance_1(lat1, lon1, lat2, lon2):\n",
    "    lt1 = radians(lat1)\n",
    "    ln1 = radians(lon1)\n",
    "    lt2 = radians(lat2)\n",
    "    ln2 = radians(lon2)\n",
    "    \n",
    "    delta_lt = lt2 - lt1\n",
    "    delta_ln = ln2 - ln1\n",
    "    \n",
    "    P = sin(delta_lt/2)**2 + cos(lt1)*cos(lt2)*sin(delta_ln/2)**2\n",
    "    result = round(2 * 6371 * asin(sqrt(P)), 2)\n",
    "    return result    "
   ]
  },
  {
   "cell_type": "code",
   "execution_count": 4,
   "id": "64bb7c85-7a40-41da-b8a2-9ad3e44de63d",
   "metadata": {},
   "outputs": [
    {
     "data": {
      "text/plain": [
       "120.15"
      ]
     },
     "execution_count": 4,
     "metadata": {},
     "output_type": "execute_result"
    }
   ],
   "source": [
    "# Cheking our function:\n",
    "distance_1(19.0760, 72.8777, 18.5204, 73.8567)"
   ]
  },
  {
   "cell_type": "code",
   "execution_count": 5,
   "id": "18e2dab3",
   "metadata": {},
   "outputs": [
    {
     "name": "stdout",
     "output_type": "stream",
     "text": [
      "<class 'pandas.core.frame.DataFrame'>\n",
      "RangeIndex: 6032 entries, 0 to 6031\n",
      "Data columns (total 6 columns):\n",
      " #   Column                   Non-Null Count  Dtype  \n",
      "---  ------                   --------------  -----  \n",
      " 0   origin_airport           6032 non-null   object \n",
      " 1   destination_airport      6032 non-null   object \n",
      " 2   home_airport_lat         6032 non-null   float64\n",
      " 3   home_airport_lon         6032 non-null   float64\n",
      " 4   destination_airport_lat  6032 non-null   float64\n",
      " 5   destination_airport_lon  6032 non-null   float64\n",
      "dtypes: float64(4), object(2)\n",
      "memory usage: 282.9+ KB\n"
     ]
    }
   ],
   "source": [
    "df = pd.read_csv('flights_destinations.csv')\n",
    "df.info()"
   ]
  },
  {
   "cell_type": "code",
   "execution_count": 6,
   "id": "797724c5",
   "metadata": {},
   "outputs": [],
   "source": [
    "# Applying the function\n",
    "df['distance_km_1'] = df.apply(lambda x: distance_1(x['home_airport_lat'], \n",
    "                                               x['home_airport_lon'], \n",
    "                                               x['destination_airport_lat'],\n",
    "                                               x['destination_airport_lon']), axis=1)"
   ]
  },
  {
   "cell_type": "code",
   "execution_count": 7,
   "id": "8a45549f",
   "metadata": {},
   "outputs": [
    {
     "data": {
      "text/html": [
       "<div>\n",
       "<style scoped>\n",
       "    .dataframe tbody tr th:only-of-type {\n",
       "        vertical-align: middle;\n",
       "    }\n",
       "\n",
       "    .dataframe tbody tr th {\n",
       "        vertical-align: top;\n",
       "    }\n",
       "\n",
       "    .dataframe thead th {\n",
       "        text-align: right;\n",
       "    }\n",
       "</style>\n",
       "<table border=\"1\" class=\"dataframe\">\n",
       "  <thead>\n",
       "    <tr style=\"text-align: right;\">\n",
       "      <th></th>\n",
       "      <th>origin_airport</th>\n",
       "      <th>destination_airport</th>\n",
       "      <th>home_airport_lat</th>\n",
       "      <th>home_airport_lon</th>\n",
       "      <th>destination_airport_lat</th>\n",
       "      <th>destination_airport_lon</th>\n",
       "      <th>distance_km_1</th>\n",
       "    </tr>\n",
       "  </thead>\n",
       "  <tbody>\n",
       "    <tr>\n",
       "      <th>0</th>\n",
       "      <td>AKR</td>\n",
       "      <td>AUS</td>\n",
       "      <td>41.038</td>\n",
       "      <td>-81.467</td>\n",
       "      <td>30.194</td>\n",
       "      <td>-97.670</td>\n",
       "      <td>1891.56</td>\n",
       "    </tr>\n",
       "    <tr>\n",
       "      <th>1</th>\n",
       "      <td>AKR</td>\n",
       "      <td>DEN</td>\n",
       "      <td>41.038</td>\n",
       "      <td>-81.467</td>\n",
       "      <td>39.858</td>\n",
       "      <td>-104.667</td>\n",
       "      <td>1961.74</td>\n",
       "    </tr>\n",
       "    <tr>\n",
       "      <th>2</th>\n",
       "      <td>AKR</td>\n",
       "      <td>DTW</td>\n",
       "      <td>41.038</td>\n",
       "      <td>-81.467</td>\n",
       "      <td>42.409</td>\n",
       "      <td>-83.010</td>\n",
       "      <td>199.09</td>\n",
       "    </tr>\n",
       "    <tr>\n",
       "      <th>3</th>\n",
       "      <td>AKR</td>\n",
       "      <td>FTW</td>\n",
       "      <td>41.038</td>\n",
       "      <td>-81.467</td>\n",
       "      <td>32.820</td>\n",
       "      <td>-97.362</td>\n",
       "      <td>1678.49</td>\n",
       "    </tr>\n",
       "    <tr>\n",
       "      <th>4</th>\n",
       "      <td>AKR</td>\n",
       "      <td>HLZ</td>\n",
       "      <td>41.038</td>\n",
       "      <td>-81.467</td>\n",
       "      <td>43.173</td>\n",
       "      <td>-79.935</td>\n",
       "      <td>268.93</td>\n",
       "    </tr>\n",
       "  </tbody>\n",
       "</table>\n",
       "</div>"
      ],
      "text/plain": [
       "  origin_airport destination_airport  home_airport_lat  home_airport_lon  \\\n",
       "0            AKR                 AUS            41.038           -81.467   \n",
       "1            AKR                 DEN            41.038           -81.467   \n",
       "2            AKR                 DTW            41.038           -81.467   \n",
       "3            AKR                 FTW            41.038           -81.467   \n",
       "4            AKR                 HLZ            41.038           -81.467   \n",
       "\n",
       "   destination_airport_lat  destination_airport_lon  distance_km_1  \n",
       "0                   30.194                  -97.670        1891.56  \n",
       "1                   39.858                 -104.667        1961.74  \n",
       "2                   42.409                  -83.010         199.09  \n",
       "3                   32.820                  -97.362        1678.49  \n",
       "4                   43.173                  -79.935         268.93  "
      ]
     },
     "execution_count": 7,
     "metadata": {},
     "output_type": "execute_result"
    }
   ],
   "source": [
    "df.head()"
   ]
  },
  {
   "cell_type": "markdown",
   "id": "1a13faa7-6e8e-400b-9fca-2a5950e43f5e",
   "metadata": {},
   "source": [
    "# Method 2:"
   ]
  },
  {
   "cell_type": "markdown",
   "id": "06f2b452-9b0e-41f2-a9a6-db45a55d6f9a",
   "metadata": {},
   "source": [
    "Using haversine module to use the haversine formula"
   ]
  },
  {
   "cell_type": "code",
   "execution_count": 8,
   "id": "1a0c1be7-5344-464b-8be8-538efe8d0506",
   "metadata": {},
   "outputs": [
    {
     "name": "stdout",
     "output_type": "stream",
     "text": [
      "Requirement already satisfied: haversine in c:\\users\\97252\\anaconda3\\lib\\site-packages (2.8.0)\n",
      "Note: you may need to restart the kernel to use updated packages.\n"
     ]
    }
   ],
   "source": [
    "pip install haversine"
   ]
  },
  {
   "cell_type": "code",
   "execution_count": 9,
   "id": "81504ce4-04c2-461b-8cac-f3e75d2af807",
   "metadata": {},
   "outputs": [],
   "source": [
    "# Importing haversine module:\n",
    "import haversine as hs   \n",
    "from haversine import Unit"
   ]
  },
  {
   "cell_type": "code",
   "execution_count": 10,
   "id": "6c5d26f5-293e-40bb-96b2-d9f6e15f51cf",
   "metadata": {},
   "outputs": [],
   "source": [
    "# Writing function:\n",
    "def distance_haversine(lat1, lon1, lat2, lon2):\n",
    "    loc1 = (lat1, lon1)\n",
    "    loc2 = (lat2, lon2)\n",
    "    result = hs.haversine(loc1, loc2, unit=Unit.KILOMETERS)\n",
    "    return round(result, 2)\n"
   ]
  },
  {
   "cell_type": "code",
   "execution_count": 11,
   "id": "fee739d8-9fd6-4fb8-bde6-b3e8c92ef8e8",
   "metadata": {},
   "outputs": [
    {
     "data": {
      "text/plain": [
       "120.15"
      ]
     },
     "execution_count": 11,
     "metadata": {},
     "output_type": "execute_result"
    }
   ],
   "source": [
    "# Cheking our function:\n",
    "distance_haversine(19.0760, 72.8777, 18.5204, 73.8567)"
   ]
  },
  {
   "cell_type": "code",
   "execution_count": 12,
   "id": "640ac2ad",
   "metadata": {},
   "outputs": [],
   "source": [
    "# Applying function\n",
    "df['distance_km_2'] = df.apply(lambda x: distance_haversine(x['home_airport_lat'], \n",
    "                                               x['home_airport_lon'], \n",
    "                                               x['destination_airport_lat'],\n",
    "                                               x['destination_airport_lon']), axis=1)"
   ]
  },
  {
   "cell_type": "code",
   "execution_count": 13,
   "id": "055376c2",
   "metadata": {},
   "outputs": [
    {
     "data": {
      "text/html": [
       "<div>\n",
       "<style scoped>\n",
       "    .dataframe tbody tr th:only-of-type {\n",
       "        vertical-align: middle;\n",
       "    }\n",
       "\n",
       "    .dataframe tbody tr th {\n",
       "        vertical-align: top;\n",
       "    }\n",
       "\n",
       "    .dataframe thead th {\n",
       "        text-align: right;\n",
       "    }\n",
       "</style>\n",
       "<table border=\"1\" class=\"dataframe\">\n",
       "  <thead>\n",
       "    <tr style=\"text-align: right;\">\n",
       "      <th></th>\n",
       "      <th>origin_airport</th>\n",
       "      <th>destination_airport</th>\n",
       "      <th>home_airport_lat</th>\n",
       "      <th>home_airport_lon</th>\n",
       "      <th>destination_airport_lat</th>\n",
       "      <th>destination_airport_lon</th>\n",
       "      <th>distance_km_1</th>\n",
       "      <th>distance_km_2</th>\n",
       "    </tr>\n",
       "  </thead>\n",
       "  <tbody>\n",
       "    <tr>\n",
       "      <th>0</th>\n",
       "      <td>AKR</td>\n",
       "      <td>AUS</td>\n",
       "      <td>41.038</td>\n",
       "      <td>-81.467</td>\n",
       "      <td>30.194</td>\n",
       "      <td>-97.670</td>\n",
       "      <td>1891.56</td>\n",
       "      <td>1891.57</td>\n",
       "    </tr>\n",
       "    <tr>\n",
       "      <th>1</th>\n",
       "      <td>AKR</td>\n",
       "      <td>DEN</td>\n",
       "      <td>41.038</td>\n",
       "      <td>-81.467</td>\n",
       "      <td>39.858</td>\n",
       "      <td>-104.667</td>\n",
       "      <td>1961.74</td>\n",
       "      <td>1961.75</td>\n",
       "    </tr>\n",
       "    <tr>\n",
       "      <th>2</th>\n",
       "      <td>AKR</td>\n",
       "      <td>DTW</td>\n",
       "      <td>41.038</td>\n",
       "      <td>-81.467</td>\n",
       "      <td>42.409</td>\n",
       "      <td>-83.010</td>\n",
       "      <td>199.09</td>\n",
       "      <td>199.09</td>\n",
       "    </tr>\n",
       "    <tr>\n",
       "      <th>3</th>\n",
       "      <td>AKR</td>\n",
       "      <td>FTW</td>\n",
       "      <td>41.038</td>\n",
       "      <td>-81.467</td>\n",
       "      <td>32.820</td>\n",
       "      <td>-97.362</td>\n",
       "      <td>1678.49</td>\n",
       "      <td>1678.49</td>\n",
       "    </tr>\n",
       "    <tr>\n",
       "      <th>4</th>\n",
       "      <td>AKR</td>\n",
       "      <td>HLZ</td>\n",
       "      <td>41.038</td>\n",
       "      <td>-81.467</td>\n",
       "      <td>43.173</td>\n",
       "      <td>-79.935</td>\n",
       "      <td>268.93</td>\n",
       "      <td>268.93</td>\n",
       "    </tr>\n",
       "  </tbody>\n",
       "</table>\n",
       "</div>"
      ],
      "text/plain": [
       "  origin_airport destination_airport  home_airport_lat  home_airport_lon  \\\n",
       "0            AKR                 AUS            41.038           -81.467   \n",
       "1            AKR                 DEN            41.038           -81.467   \n",
       "2            AKR                 DTW            41.038           -81.467   \n",
       "3            AKR                 FTW            41.038           -81.467   \n",
       "4            AKR                 HLZ            41.038           -81.467   \n",
       "\n",
       "   destination_airport_lat  destination_airport_lon  distance_km_1  \\\n",
       "0                   30.194                  -97.670        1891.56   \n",
       "1                   39.858                 -104.667        1961.74   \n",
       "2                   42.409                  -83.010         199.09   \n",
       "3                   32.820                  -97.362        1678.49   \n",
       "4                   43.173                  -79.935         268.93   \n",
       "\n",
       "   distance_km_2  \n",
       "0        1891.57  \n",
       "1        1961.75  \n",
       "2         199.09  \n",
       "3        1678.49  \n",
       "4         268.93  "
      ]
     },
     "execution_count": 13,
     "metadata": {},
     "output_type": "execute_result"
    }
   ],
   "source": [
    "df.head()"
   ]
  },
  {
   "cell_type": "markdown",
   "id": "3925eebb-6745-4cfa-b429-098f8a98cf26",
   "metadata": {},
   "source": [
    "# Method 3: "
   ]
  },
  {
   "cell_type": "markdown",
   "id": "76533e78-9f6c-4849-b610-4ba79139bcc6",
   "metadata": {},
   "source": [
    "Using Geodesic Distance"
   ]
  },
  {
   "cell_type": "code",
   "execution_count": 14,
   "id": "96292eaa-449c-4c5d-88c6-aff817bc8bc0",
   "metadata": {},
   "outputs": [
    {
     "name": "stdout",
     "output_type": "stream",
     "text": [
      "Requirement already satisfied: geopy in c:\\users\\97252\\anaconda3\\lib\\site-packages (2.3.0)\n",
      "Requirement already satisfied: geographiclib<3,>=1.52 in c:\\users\\97252\\anaconda3\\lib\\site-packages (from geopy) (2.0)\n",
      "Note: you may need to restart the kernel to use updated packages.\n"
     ]
    }
   ],
   "source": [
    "pip install geopy"
   ]
  },
  {
   "cell_type": "code",
   "execution_count": 15,
   "id": "174bf92f-b99c-4f52-ad16-9385b1324ea7",
   "metadata": {},
   "outputs": [],
   "source": [
    "# Import the geodesic module from geopy library\n",
    "from geopy.distance import geodesic as GD\n"
   ]
  },
  {
   "cell_type": "code",
   "execution_count": 16,
   "id": "86d64655-2482-4128-8750-d12b92874e2b",
   "metadata": {},
   "outputs": [],
   "source": [
    "# Writing the function for calculation distance in km:\n",
    "def distance_geopy(lat1, lon1, lat2, lon2):\n",
    "    coor1 = (lat1, lon1)\n",
    "    coor2 = (lat2, lon2)\n",
    "    result = GD(coor1, coor2).km\n",
    "    return round(result, 2)"
   ]
  },
  {
   "cell_type": "code",
   "execution_count": 17,
   "id": "adf08d9c",
   "metadata": {},
   "outputs": [
    {
     "data": {
      "text/plain": [
       "3974.22"
      ]
     },
     "execution_count": 17,
     "metadata": {},
     "output_type": "execute_result"
    }
   ],
   "source": [
    "# Cheking functions work:\n",
    "distance_haversine(33.942, -118.408, 40.64, -73.779)"
   ]
  },
  {
   "cell_type": "code",
   "execution_count": 18,
   "id": "f7bf58e9",
   "metadata": {},
   "outputs": [],
   "source": [
    "# Applying function:\n",
    "df['distance_km_3'] = df.apply(lambda x: distance_geopy(x['home_airport_lat'], \n",
    "                                               x['home_airport_lon'], \n",
    "                                               x['destination_airport_lat'],\n",
    "                                               x['destination_airport_lon']), axis=1)"
   ]
  },
  {
   "cell_type": "code",
   "execution_count": 19,
   "id": "a43d5afc",
   "metadata": {},
   "outputs": [
    {
     "data": {
      "text/html": [
       "<div>\n",
       "<style scoped>\n",
       "    .dataframe tbody tr th:only-of-type {\n",
       "        vertical-align: middle;\n",
       "    }\n",
       "\n",
       "    .dataframe tbody tr th {\n",
       "        vertical-align: top;\n",
       "    }\n",
       "\n",
       "    .dataframe thead th {\n",
       "        text-align: right;\n",
       "    }\n",
       "</style>\n",
       "<table border=\"1\" class=\"dataframe\">\n",
       "  <thead>\n",
       "    <tr style=\"text-align: right;\">\n",
       "      <th></th>\n",
       "      <th>origin_airport</th>\n",
       "      <th>destination_airport</th>\n",
       "      <th>home_airport_lat</th>\n",
       "      <th>home_airport_lon</th>\n",
       "      <th>destination_airport_lat</th>\n",
       "      <th>destination_airport_lon</th>\n",
       "      <th>distance_km_1</th>\n",
       "      <th>distance_km_2</th>\n",
       "      <th>distance_km_3</th>\n",
       "    </tr>\n",
       "  </thead>\n",
       "  <tbody>\n",
       "    <tr>\n",
       "      <th>0</th>\n",
       "      <td>AKR</td>\n",
       "      <td>AUS</td>\n",
       "      <td>41.038</td>\n",
       "      <td>-81.467</td>\n",
       "      <td>30.194</td>\n",
       "      <td>-97.670</td>\n",
       "      <td>1891.56</td>\n",
       "      <td>1891.57</td>\n",
       "      <td>1892.43</td>\n",
       "    </tr>\n",
       "    <tr>\n",
       "      <th>1</th>\n",
       "      <td>AKR</td>\n",
       "      <td>DEN</td>\n",
       "      <td>41.038</td>\n",
       "      <td>-81.467</td>\n",
       "      <td>39.858</td>\n",
       "      <td>-104.667</td>\n",
       "      <td>1961.74</td>\n",
       "      <td>1961.75</td>\n",
       "      <td>1966.68</td>\n",
       "    </tr>\n",
       "    <tr>\n",
       "      <th>2</th>\n",
       "      <td>AKR</td>\n",
       "      <td>DTW</td>\n",
       "      <td>41.038</td>\n",
       "      <td>-81.467</td>\n",
       "      <td>42.409</td>\n",
       "      <td>-83.010</td>\n",
       "      <td>199.09</td>\n",
       "      <td>199.09</td>\n",
       "      <td>199.17</td>\n",
       "    </tr>\n",
       "    <tr>\n",
       "      <th>3</th>\n",
       "      <td>AKR</td>\n",
       "      <td>FTW</td>\n",
       "      <td>41.038</td>\n",
       "      <td>-81.467</td>\n",
       "      <td>32.820</td>\n",
       "      <td>-97.362</td>\n",
       "      <td>1678.49</td>\n",
       "      <td>1678.49</td>\n",
       "      <td>1680.27</td>\n",
       "    </tr>\n",
       "    <tr>\n",
       "      <th>4</th>\n",
       "      <td>AKR</td>\n",
       "      <td>HLZ</td>\n",
       "      <td>41.038</td>\n",
       "      <td>-81.467</td>\n",
       "      <td>43.173</td>\n",
       "      <td>-79.935</td>\n",
       "      <td>268.93</td>\n",
       "      <td>268.93</td>\n",
       "      <td>268.87</td>\n",
       "    </tr>\n",
       "  </tbody>\n",
       "</table>\n",
       "</div>"
      ],
      "text/plain": [
       "  origin_airport destination_airport  home_airport_lat  home_airport_lon  \\\n",
       "0            AKR                 AUS            41.038           -81.467   \n",
       "1            AKR                 DEN            41.038           -81.467   \n",
       "2            AKR                 DTW            41.038           -81.467   \n",
       "3            AKR                 FTW            41.038           -81.467   \n",
       "4            AKR                 HLZ            41.038           -81.467   \n",
       "\n",
       "   destination_airport_lat  destination_airport_lon  distance_km_1  \\\n",
       "0                   30.194                  -97.670        1891.56   \n",
       "1                   39.858                 -104.667        1961.74   \n",
       "2                   42.409                  -83.010         199.09   \n",
       "3                   32.820                  -97.362        1678.49   \n",
       "4                   43.173                  -79.935         268.93   \n",
       "\n",
       "   distance_km_2  distance_km_3  \n",
       "0        1891.57        1892.43  \n",
       "1        1961.75        1966.68  \n",
       "2         199.09         199.17  \n",
       "3        1678.49        1680.27  \n",
       "4         268.93         268.87  "
      ]
     },
     "execution_count": 19,
     "metadata": {},
     "output_type": "execute_result"
    }
   ],
   "source": [
    "df.head()"
   ]
  },
  {
   "cell_type": "markdown",
   "id": "740d20ef",
   "metadata": {},
   "source": [
    "### Conclusion:\n",
    "We calculated the distance between two geographical coordinates using three methods: manual computation with the Haversine formula, utilizing the Haversine module, and employing the geodesic module. The first two methods yielded identical results, while the third method produced a slightly different outcome. Generally, geodesic modules offer increased accuracy for long distances and high-precision geographic calculations. However, in our specific case, the variation introduced by the third method is not expected to significantly impact the results."
   ]
  }
 ],
 "metadata": {
  "kernelspec": {
   "display_name": "Python 3 (ipykernel)",
   "language": "python",
   "name": "python3"
  },
  "language_info": {
   "codemirror_mode": {
    "name": "ipython",
    "version": 3
   },
   "file_extension": ".py",
   "mimetype": "text/x-python",
   "name": "python",
   "nbconvert_exporter": "python",
   "pygments_lexer": "ipython3",
   "version": "3.9.12"
  }
 },
 "nbformat": 4,
 "nbformat_minor": 5
}
